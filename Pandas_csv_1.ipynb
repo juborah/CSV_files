{
  "nbformat": 4,
  "nbformat_minor": 0,
  "metadata": {
    "colab": {
      "name": "Pandas_csv_1.ipynb",
      "provenance": [],
      "collapsed_sections": [],
      "mount_file_id": "1Gj9DdDpEa2KkhG_SmWu5rUL4vBqy3Zil",
      "authorship_tag": "ABX9TyOIDPvyVN7NIUR9cudVDpDA"
    },
    "kernelspec": {
      "name": "python3",
      "display_name": "Python 3"
    }
  },
  "cells": [
    {
      "cell_type": "markdown",
      "metadata": {
        "id": "xC6OE0YvNPQ0"
      },
      "source": [
        "Doc1: Working with csv files using pandas. "
      ]
    },
    {
      "cell_type": "code",
      "metadata": {
        "colab": {
          "base_uri": "https://localhost:8080/"
        },
        "id": "7eQJXv-AK36m",
        "outputId": "4ea28a72-2bd3-43c1-af1e-7622a365eac1"
      },
      "source": [
        "import os\n",
        "import glob\n",
        "import numpy as np\n",
        "\n",
        "\n",
        "import pandas as pd\n",
        "\n",
        "#from google.colab import drive\n",
        "#drive.mount ('/content/drive')\n",
        "\n",
        "#from google.colab import files\n",
        "#uploaded = files.upload\n",
        "\n",
        "#for file in glob.glob(\"C:\\Python\\Python39\\pandas.CSV.test1.csv\"):\n",
        "#print(file)\n",
        "\n",
        "path = \"/content/drive/MyDrive/pandas.CSV.test1.csv\"\n",
        "\n",
        "df = pd.read_csv(path, names = [\"Serial no.\", \"Patient_ID\", \"Image_No\"])\n",
        "df.describe\n",
        "#df.head()\n",
        "#df.tail()"
      ],
      "execution_count": 3,
      "outputs": [
        {
          "output_type": "execute_result",
          "data": {
            "text/plain": [
              "<bound method NDFrame.describe of         Serial no.  Patient_ID  Image_No\n",
              "0      w\\tgh\\tk\\tl         NaN       NaN\n",
              "1    1\\t7\\t2\\tgvgf         NaN       NaN\n",
              "2  2\\t7\\tggh\\tcvcv         NaN       NaN>"
            ]
          },
          "metadata": {
            "tags": []
          },
          "execution_count": 3
        }
      ]
    },
    {
      "cell_type": "code",
      "metadata": {
        "colab": {
          "base_uri": "https://localhost:8080/"
        },
        "id": "b0wRaeUKxC0c",
        "outputId": "d60acc82-7871-4ca9-f203-c092df1d8ba9"
      },
      "source": [
        "df = pd.DataFrame()\n",
        "data = [[10,200,60], [12,255,56], [9,45,78], [657,668,767]]\n",
        "df = pd.DataFrame(data)\n",
        "print(data)\n",
        "print(df)\n",
        "\n",
        "\n",
        "df = pd.DataFrame(data, index = [1,2,3,4])\n",
        "print(df)\n",
        "\n",
        "df = pd.DataFrame(data, columns = ['Serial No', 'Patient_Id', 'Image_No'])\n",
        "print(df)\n",
        "\n",
        "print(df.info())\n",
        "print(df.shape) \n",
        "\n",
        "print(df.index)\n",
        "\n"
      ],
      "execution_count": 7,
      "outputs": [
        {
          "output_type": "stream",
          "text": [
            "[[10, 200, 60], [12, 255, 56], [9, 45, 78], [657, 668, 767]]\n",
            "     0    1    2\n",
            "0   10  200   60\n",
            "1   12  255   56\n",
            "2    9   45   78\n",
            "3  657  668  767\n",
            "     0    1    2\n",
            "1   10  200   60\n",
            "2   12  255   56\n",
            "3    9   45   78\n",
            "4  657  668  767\n",
            "   Serial No  Patient_Id  Image_No\n",
            "0         10         200        60\n",
            "1         12         255        56\n",
            "2          9          45        78\n",
            "3        657         668       767\n",
            "<class 'pandas.core.frame.DataFrame'>\n",
            "RangeIndex: 4 entries, 0 to 3\n",
            "Data columns (total 3 columns):\n",
            " #   Column      Non-Null Count  Dtype\n",
            "---  ------      --------------  -----\n",
            " 0   Serial No   4 non-null      int64\n",
            " 1   Patient_Id  4 non-null      int64\n",
            " 2   Image_No    4 non-null      int64\n",
            "dtypes: int64(3)\n",
            "memory usage: 224.0 bytes\n",
            "None\n",
            "(4, 3)\n",
            "RangeIndex(start=0, stop=4, step=1)\n"
          ],
          "name": "stdout"
        }
      ]
    },
    {
      "cell_type": "code",
      "metadata": {
        "colab": {
          "base_uri": "https://localhost:8080/"
        },
        "id": "vzNDdCuB5Myf",
        "outputId": "20ea4251-9730-4e6a-ccb3-d9d26605af48"
      },
      "source": [
        "#df = df.set_index('Serial No')\n",
        "print(df)\n",
        "\n",
        "print(df.columns)\n",
        "#print(df.rows)\n",
        "\n",
        "#print(df['Image_No:0'].unique())\n",
        "\n",
        "df = df.rename(columns = {'Image_No=0':'Image_set'})\n",
        "print(df.columns)\n",
        "print(df[\"Patient_Id\"])\n",
        "print(df.dtypes)\n",
        "print(df.describe())\n",
        "print(df[1:3])\n",
        "\n"
      ],
      "execution_count": 8,
      "outputs": [
        {
          "output_type": "stream",
          "text": [
            "   Serial No  Patient_Id  Image_No\n",
            "0         10         200        60\n",
            "1         12         255        56\n",
            "2          9          45        78\n",
            "3        657         668       767\n",
            "Index(['Serial No', 'Patient_Id', 'Image_No'], dtype='object')\n",
            "Index(['Serial No', 'Patient_Id', 'Image_No'], dtype='object')\n",
            "0    200\n",
            "1    255\n",
            "2     45\n",
            "3    668\n",
            "Name: Patient_Id, dtype: int64\n",
            "Serial No     int64\n",
            "Patient_Id    int64\n",
            "Image_No      int64\n",
            "dtype: object\n",
            "        Serial No  Patient_Id    Image_No\n",
            "count    4.000000     4.00000    4.000000\n",
            "mean   172.000000   292.00000  240.250000\n",
            "std    323.335739   265.96867  351.297002\n",
            "min      9.000000    45.00000   56.000000\n",
            "25%      9.750000   161.25000   59.000000\n",
            "50%     11.000000   227.50000   69.000000\n",
            "75%    173.250000   358.25000  250.250000\n",
            "max    657.000000   668.00000  767.000000\n",
            "   Serial No  Patient_Id  Image_No\n",
            "1         12         255        56\n",
            "2          9          45        78\n"
          ],
          "name": "stdout"
        }
      ]
    },
    {
      "cell_type": "code",
      "metadata": {
        "colab": {
          "base_uri": "https://localhost:8080/"
        },
        "id": "KdTbyekmCHGm",
        "outputId": "05cf6693-ef58-4d0c-d992-9d18a6be4a30"
      },
      "source": [
        "df['new_data'] = pd.to_datetime(\"2020-06-07\")\n",
        "print(df)\n",
        "\n",
        "#df = df.drop(df.index[1])\n",
        "#print(df)\n",
        "print(max(df['Image_No']))"
      ],
      "execution_count": 9,
      "outputs": [
        {
          "output_type": "stream",
          "text": [
            "   Serial No  Patient_Id  Image_No   new_data\n",
            "0         10         200        60 2020-06-07\n",
            "1         12         255        56 2020-06-07\n",
            "2          9          45        78 2020-06-07\n",
            "3        657         668       767 2020-06-07\n",
            "767\n"
          ],
          "name": "stdout"
        }
      ]
    },
    {
      "cell_type": "code",
      "metadata": {
        "colab": {
          "base_uri": "https://localhost:8080/"
        },
        "id": "lc909dMJEYbE",
        "outputId": "94c1e01d-f34d-4804-a846-a10d046fac57"
      },
      "source": [
        "df = df.sort_values('Patient_Id', ascending = True)\n",
        "print(df)"
      ],
      "execution_count": 10,
      "outputs": [
        {
          "output_type": "stream",
          "text": [
            "   Serial No  Patient_Id  Image_No   new_data\n",
            "2          9          45        78 2020-06-07\n",
            "0         10         200        60 2020-06-07\n",
            "1         12         255        56 2020-06-07\n",
            "3        657         668       767 2020-06-07\n"
          ],
          "name": "stdout"
        }
      ]
    }
  ]
}